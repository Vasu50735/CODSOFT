{
 "cells": [
  {
   "cell_type": "code",
   "execution_count": null,
   "id": "c6a85935-4403-48a7-95ae-c89eed59d69e",
   "metadata": {},
   "outputs": [
    {
     "name": "stdout",
     "output_type": "stream",
     "text": [
      "ChatBot: Hi there! I'm here to chat with you. Ask me anything, or type 'exit' to leave.\n"
     ]
    },
    {
     "name": "stdin",
     "output_type": "stream",
     "text": [
      "You:  date\n"
     ]
    },
    {
     "name": "stdout",
     "output_type": "stream",
     "text": [
      "ChatBot: Right now, it’s 2024-12-06 23:31:58.\n"
     ]
    },
    {
     "name": "stdin",
     "output_type": "stream",
     "text": [
      "You:  sport\n"
     ]
    },
    {
     "name": "stdout",
     "output_type": "stream",
     "text": [
      "ChatBot: Hmm, I’m not sure how to respond to that. Can you try asking something else?\n"
     ]
    }
   ],
   "source": [
    "def chatbot():\n",
    "    print(\"ChatBot: Hi there! I'm here to chat with you. Ask me anything, or type 'exit' to leave.\")\n",
    "\n",
    "    while True:\n",
    "        user_input = input(\"You: \").strip().lower()\n",
    "\n",
    "        # Exit condition\n",
    "        if user_input in [\"exit\", \"bye\", \"quit\"]:\n",
    "            print(\"ChatBot: Goodbye! It was nice talking to you!\")\n",
    "            break\n",
    "\n",
    "        # Responses to common inputs\n",
    "        if \"hello\" in user_input or \"hi\" in user_input:\n",
    "            print(\"ChatBot: Hello! How can I help you today?\")\n",
    "        elif \"how are you\" in user_input:\n",
    "            print(\"ChatBot: I'm just a chatbot, but I'm doing great! How about you?\")\n",
    "        elif \"your name\" in user_input:\n",
    "            print(\"ChatBot: I’m just called ChatBot for now. What’s your name?\")\n",
    "        elif \"time\" in user_input or \"date\" in user_input:\n",
    "            from datetime import datetime\n",
    "            now = datetime.now()\n",
    "            print(f\"ChatBot: Right now, it’s {now.strftime('%Y-%m-%d %H:%M:%S')}.\")\n",
    "        elif \"weather\" in user_input:\n",
    "            print(\"ChatBot: I can’t check the weather as I am not connected to any live channels\")\n",
    "        elif \"joke\" in user_input:\n",
    "            print(\"ChatBot: What do you call fake spaghetti? An *impasta*!\")\n",
    "        elif \"age\" in user_input:\n",
    "            print(\"ChatBot: I do not age, but I was created not too long ago.\")\n",
    "        elif \"creator\" in user_input or \"who made you\" in user_input:\n",
    "            print(\"ChatBot: A great programmer built me to chat with you!\")\n",
    "        elif \"help\" in user_input:\n",
    "            print(\"ChatBot: Of course! Tell me what you need help with.\")\n",
    "        elif \"favorite\" in user_input:\n",
    "            print(\"ChatBot: I don’t have favorites, but I’d love to hear about yours!\")\n",
    "        elif \"food\" in user_input:\n",
    "            print(\"ChatBot: I don’t eat, but I would like to hear yours!\")\n",
    "        elif \"hobby\" in user_input:\n",
    "            print(\"ChatBot: I like chatting with people and learning from them!\")\n",
    "        elif \"sports\" in user_input:\n",
    "            print(\"ChatBot: I don’t play sports!\")\n",
    "        elif \"music\" in user_input:\n",
    "            print(\"ChatBot: I can’t listen to music, but I’d love to hear about your favorite songs.\")\n",
    "        elif \"movie\" in user_input:\n",
    "            print(\"ChatBot: I haven’t seen any movies, but I’m happy to chat about yours!\")\n",
    "        else:\n",
    "            print(\"ChatBot: Hmm, I’m not sure how to respond to that. Can you try asking something else?\")\n",
    "\n",
    "# Run the chatbot\n",
    "if __name__ == \"__main__\":\n",
    "    chatbot()"
   ]
  },
  {
   "cell_type": "code",
   "execution_count": null,
   "id": "5a785a58-d4c6-44f6-90df-b5dfeb3cdf1d",
   "metadata": {},
   "outputs": [],
   "source": []
  }
 ],
 "metadata": {
  "kernelspec": {
   "display_name": "Python 3 (ipykernel)",
   "language": "python",
   "name": "python3"
  },
  "language_info": {
   "codemirror_mode": {
    "name": "ipython",
    "version": 3
   },
   "file_extension": ".py",
   "mimetype": "text/x-python",
   "name": "python",
   "nbconvert_exporter": "python",
   "pygments_lexer": "ipython3",
   "version": "3.12.0"
  }
 },
 "nbformat": 4,
 "nbformat_minor": 5
}
