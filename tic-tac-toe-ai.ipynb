{
 "cells": [
  {
   "cell_type": "code",
   "execution_count": 1,
   "id": "edafe868-585f-4c5f-912c-056efaf0dd64",
   "metadata": {},
   "outputs": [
    {
     "name": "stdout",
     "output_type": "stream",
     "text": [
      "Welcome to Tic-Tac-Toe! You are 'X' and I am 'O'.\n",
      "  |   |  \n",
      "---------\n",
      "  |   |  \n",
      "---------\n",
      "  |   |  \n",
      "---------\n"
     ]
    },
    {
     "name": "stdin",
     "output_type": "stream",
     "text": [
      "Your turn! Enter a position (1-9):  1\n"
     ]
    },
    {
     "name": "stdout",
     "output_type": "stream",
     "text": [
      "X |   |  \n",
      "---------\n",
      "  |   |  \n",
      "---------\n",
      "  |   |  \n",
      "---------\n",
      "AI's turn...\n",
      "X |   |  \n",
      "---------\n",
      "  | O |  \n",
      "---------\n",
      "  |   |  \n",
      "---------\n"
     ]
    },
    {
     "name": "stdin",
     "output_type": "stream",
     "text": [
      "Your turn! Enter a position (1-9):  9\n"
     ]
    },
    {
     "name": "stdout",
     "output_type": "stream",
     "text": [
      "X |   |  \n",
      "---------\n",
      "  | O |  \n",
      "---------\n",
      "  |   | X\n",
      "---------\n",
      "AI's turn...\n",
      "X | O |  \n",
      "---------\n",
      "  | O |  \n",
      "---------\n",
      "  |   | X\n",
      "---------\n"
     ]
    },
    {
     "name": "stdin",
     "output_type": "stream",
     "text": [
      "Your turn! Enter a position (1-9):  8\n"
     ]
    },
    {
     "name": "stdout",
     "output_type": "stream",
     "text": [
      "X | O |  \n",
      "---------\n",
      "  | O |  \n",
      "---------\n",
      "  | X | X\n",
      "---------\n",
      "AI's turn...\n",
      "X | O |  \n",
      "---------\n",
      "  | O |  \n",
      "---------\n",
      "O | X | X\n",
      "---------\n"
     ]
    },
    {
     "name": "stdin",
     "output_type": "stream",
     "text": [
      "Your turn! Enter a position (1-9):  3\n"
     ]
    },
    {
     "name": "stdout",
     "output_type": "stream",
     "text": [
      "X | O | X\n",
      "---------\n",
      "  | O |  \n",
      "---------\n",
      "O | X | X\n",
      "---------\n",
      "AI's turn...\n",
      "X | O | X\n",
      "---------\n",
      "  | O | O\n",
      "---------\n",
      "O | X | X\n",
      "---------\n"
     ]
    },
    {
     "name": "stdin",
     "output_type": "stream",
     "text": [
      "Your turn! Enter a position (1-9):  4\n"
     ]
    },
    {
     "name": "stdout",
     "output_type": "stream",
     "text": [
      "X | O | X\n",
      "---------\n",
      "X | O | O\n",
      "---------\n",
      "O | X | X\n",
      "---------\n",
      "It's a draw!\n"
     ]
    }
   ],
   "source": [
    "def display_board(board):\n",
    "    for row in board:\n",
    "        print(\" | \".join(row))\n",
    "        print(\"-\" * 9)\n",
    "\n",
    "# Function to check if there's a winner\n",
    "def check_winner(board, player):\n",
    "    for row in board:\n",
    "        if all(s == player for s in row):\n",
    "            return True\n",
    "    for col in range(3):\n",
    "        if all(board[row][col] == player for row in range(3)):\n",
    "            return True\n",
    "    if all(board[i][i] == player for i in range(3)) or all(board[i][2 - i] == player for i in range(3)):\n",
    "        return True\n",
    "    return False\n",
    "\n",
    "# Function to check if the board is full\n",
    "def is_draw(board):\n",
    "    return all(cell != \" \" for row in board for cell in row)\n",
    "\n",
    "# Minimax algorithm for AI\n",
    "def minimax(board, depth, is_maximizing):\n",
    "    # Base cases\n",
    "    if check_winner(board, \"O\"):  # AI wins\n",
    "        return 10 - depth\n",
    "    if check_winner(board, \"X\"):  # Human wins\n",
    "        return depth - 10\n",
    "    if is_draw(board):  # Draw\n",
    "        return 0\n",
    "\n",
    "    if is_maximizing:\n",
    "        best_score = -float(\"inf\")\n",
    "        for row in range(3):\n",
    "            for col in range(3):\n",
    "                if board[row][col] == \" \":\n",
    "                    board[row][col] = \"O\"\n",
    "                    score = minimax(board, depth + 1, False)\n",
    "                    board[row][col] = \" \"\n",
    "                    best_score = max(best_score, score)\n",
    "        return best_score\n",
    "    else:\n",
    "        best_score = float(\"inf\")\n",
    "        for row in range(3):\n",
    "            for col in range(3):\n",
    "                if board[row][col] == \" \":\n",
    "                    board[row][col] = \"X\"\n",
    "                    score = minimax(board, depth + 1, True)\n",
    "                    board[row][col] = \" \"\n",
    "                    best_score = min(best_score, score)\n",
    "        return best_score\n",
    "\n",
    "# AI's move using minimax\n",
    "def ai_move(board):\n",
    "    best_score = -float(\"inf\")\n",
    "    best_move = None\n",
    "    for row in range(3):\n",
    "        for col in range(3):\n",
    "            if board[row][col] == \" \":\n",
    "                board[row][col] = \"O\"\n",
    "                score = minimax(board, 0, False)\n",
    "                board[row][col] = \" \"\n",
    "                if score > best_score:\n",
    "                    best_score = score\n",
    "                    best_move = (row, col)\n",
    "    return best_move\n",
    "\n",
    "# Main game loop\n",
    "def tic_tac_toe():\n",
    "    print(\"Welcome to Tic-Tac-Toe! You are 'X' and I am 'O'.\")\n",
    "    board = [[\" \" for _ in range(3)] for _ in range(3)]\n",
    "    display_board(board)\n",
    "\n",
    "    while True:\n",
    "        # Human player's move\n",
    "        while True:\n",
    "            try:\n",
    "                move = int(input(\"Your turn! Enter a position (1-9): \")) - 1\n",
    "                row, col = divmod(move, 3)\n",
    "                if board[row][col] == \" \":\n",
    "                    board[row][col] = \"X\"\n",
    "                    break\n",
    "                else:\n",
    "                    print(\"Spot already taken! Try again.\")\n",
    "            except (ValueError, IndexError):\n",
    "                print(\"Invalid input! Enter a number between 1 and 9.\")\n",
    "\n",
    "        display_board(board)\n",
    "\n",
    "        if check_winner(board, \"X\"):\n",
    "            print(\"Congratulations! You win!\")\n",
    "            break\n",
    "        if is_draw(board):\n",
    "            print(\"It's a draw!\")\n",
    "            break\n",
    "\n",
    "        # AI's move\n",
    "        print(\"AI's turn...\")\n",
    "        row, col = ai_move(board)\n",
    "        board[row][col] = \"O\"\n",
    "        display_board(board)\n",
    "\n",
    "        if check_winner(board, \"O\"):\n",
    "            print(\"AI wins! Better luck next time.\")\n",
    "            break\n",
    "        if is_draw(board):\n",
    "            print(\"It's a draw!\")\n",
    "            break\n",
    "\n",
    "# Run the game\n",
    "if __name__ == \"__main__\":\n",
    "    tic_tac_toe()"
   ]
  },
  {
   "cell_type": "code",
   "execution_count": null,
   "id": "6d57517f-f228-4b8f-9ec8-e7a00effca79",
   "metadata": {},
   "outputs": [],
   "source": []
  }
 ],
 "metadata": {
  "kernelspec": {
   "display_name": "Python 3 (ipykernel)",
   "language": "python",
   "name": "python3"
  },
  "language_info": {
   "codemirror_mode": {
    "name": "ipython",
    "version": 3
   },
   "file_extension": ".py",
   "mimetype": "text/x-python",
   "name": "python",
   "nbconvert_exporter": "python",
   "pygments_lexer": "ipython3",
   "version": "3.12.0"
  }
 },
 "nbformat": 4,
 "nbformat_minor": 5
}
